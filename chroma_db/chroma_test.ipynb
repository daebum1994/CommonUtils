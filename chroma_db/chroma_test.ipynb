{
 "cells": [
  {
   "cell_type": "markdown",
   "metadata": {},
   "source": [
    "### Chromadb (Vector Store)\n",
    "- 기본 코드 정리\n",
    "- Document 문서를 꼭 참고하기 바람\n",
    "\n",
    "### 참고\n",
    "[튜토리얼 가이드](https://www.datacamp.com/tutorial/chromadb-tutorial-step-by-step-guide#rdl)\n",
    "[langchain 가이드](https://python.langchain.com/docs/integrations/vectorstores/chroma/)\n",
    "[Document](https://docs.trychroma.com/guides)"
   ]
  },
  {
   "cell_type": "code",
   "execution_count": 21,
   "metadata": {},
   "outputs": [],
   "source": [
    "import os\n",
    "import chromadb\n",
    "import shutil\n",
    "from chromadb.db.base import UniqueConstraintError\n",
    "from chromadb.utils import embedding_functions\n",
    "\n",
    "from config.settings import DB_DIR"
   ]
  },
  {
   "cell_type": "code",
   "execution_count": null,
   "metadata": {},
   "outputs": [],
   "source": [
    "client = chromadb.PersistentClient(path=DB_DIR)\n",
    "em = embedding_functions.SentenceTransformerEmbeddingFunction(\n",
    "    model_name=\"/home/0_models/BAAI_bge-m3\"\n",
    ")\n",
    "\n",
    "# 컬렉션 : 임베딩, 문서 및 추가 메타데이터를 저장하는 곳\n",
    "try:\n",
    "    collection = client.create_collection(\n",
    "        name=\"Test\", metadata={\"hnsw:space\": \"cosine\"}, embedding_function=em\n",
    "    )\n",
    "except UniqueConstraintError:  # already exist collection\n",
    "    collection = client.get_collection(\n",
    "        name=\"Test\",\n",
    "        embedding_function=em,\n",
    "    )"
   ]
  },
  {
   "cell_type": "markdown",
   "metadata": {},
   "source": [
    "#### Distance function\n",
    "hnsw:space : \"l2\", \"ip\", \"cosine\"\n",
    "default is \"l2\""
   ]
  },
  {
   "cell_type": "code",
   "execution_count": null,
   "metadata": {},
   "outputs": [],
   "source": [
    "# save : 컬렉션에 텍스트 문서 추가\n",
    "collection.add(\n",
    "    documents=[\n",
    "        \"NAVER Corporation Earnings Surprise\",\n",
    "        \"Samgsung Corporation Earnings Surprise\",\n",
    "        \"Test\",\n",
    "    ],\n",
    "    metadatas=[\n",
    "        {\"Doc Title\": 1},\n",
    "        {\"Doc Title\": 2},\n",
    "        {\"Doc Title\": 3},\n",
    "    ],\n",
    "    ids=[\"naver1\", \"samsung1\", \"Test\"],\n",
    ")\n",
    "\n",
    "\n",
    "# returns a list of the first 10 items in the collection\n",
    "print(collection.peek())\n",
    "# returns the number of items in the collection\n",
    "print(collection.count())\n",
    "# Rename the collection\n",
    "# collection.modify(name=\"new_name\")"
   ]
  },
  {
   "cell_type": "code",
   "execution_count": null,
   "metadata": {},
   "outputs": [],
   "source": [
    "# query\n",
    "results = collection.query(query_texts=\"SamSam\", n_results=2)\n",
    "print(results)"
   ]
  },
  {
   "cell_type": "code",
   "execution_count": null,
   "metadata": {},
   "outputs": [],
   "source": [
    "# 임베딩 벡터 직접 제공\n",
    "collection.add(\n",
    "    documents=[\"doc1\", \"doc2\", \"doc3\", ...],\n",
    "    embeddings=[[1.1, 2.3, 3.2], [4.5, 6.9, 4.4], [1.1, 2.3, 3.2], ...],\n",
    "    metadatas=[\n",
    "        {\"chapter\": \"3\", \"verse\": \"16\"},\n",
    "        {\"chapter\": \"3\", \"verse\": \"5\"},\n",
    "        {\"chapter\": \"29\", \"verse\": \"11\"},\n",
    "        ...,\n",
    "    ],\n",
    "    ids=[\"id1\", \"id2\", \"id3\", ...],\n",
    ")"
   ]
  },
  {
   "cell_type": "code",
   "execution_count": null,
   "metadata": {},
   "outputs": [],
   "source": [
    "# embeddings직접 제공 Query\n",
    "collection.query(\n",
    "    query_embeddings=[[11.1, 12.1, 13.1], [1.1, 2.3, 3.2], ...],\n",
    "    n_results=10,\n",
    "    where={\"metadata_field\": \"is_equal_to_this\"},\n",
    "    where_document={\"$contains\": \"search_string\"},\n",
    ")"
   ]
  },
  {
   "cell_type": "code",
   "execution_count": null,
   "metadata": {},
   "outputs": [],
   "source": [
    "collection.delete(\n",
    "    ids=[\"naver1\", \"samsung1\", \"Test\"],\n",
    "    # where={\"chapter\": \"20\"}\n",
    ")"
   ]
  }
 ],
 "metadata": {
  "kernelspec": {
   "display_name": "surro-llm",
   "language": "python",
   "name": "python3"
  },
  "language_info": {
   "codemirror_mode": {
    "name": "ipython",
    "version": 3
   },
   "file_extension": ".py",
   "mimetype": "text/x-python",
   "name": "python",
   "nbconvert_exporter": "python",
   "pygments_lexer": "ipython3",
   "version": "3.10.14"
  }
 },
 "nbformat": 4,
 "nbformat_minor": 2
}
